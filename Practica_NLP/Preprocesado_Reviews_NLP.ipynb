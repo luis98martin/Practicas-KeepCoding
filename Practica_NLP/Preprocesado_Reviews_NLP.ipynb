{
  "nbformat": 4,
  "nbformat_minor": 0,
  "metadata": {
    "colab": {
      "name": "Preprocesado_Reviews_NLP.ipynb",
      "provenance": [],
      "collapsed_sections": []
    },
    "kernelspec": {
      "name": "python3",
      "display_name": "Python 3"
    },
    "language_info": {
      "name": "python"
    },
    "accelerator": "GPU",
    "gpuClass": "standard"
  },
  "cells": [
    {
      "cell_type": "markdown",
      "source": [
        "## Entrega Práctica NLP - Luis Martín Vegas ##"
      ],
      "metadata": {
        "id": "oqVeBZz3oh81"
      }
    },
    {
      "cell_type": "markdown",
      "source": [
        "Para esta práctica hemos escogido realizar un análisis del sentimiento de las reviews recogidas en el dataset de Telefonos Móviles y Accesorios. "
      ],
      "metadata": {
        "id": "YbCdnQ-Gooj6"
      }
    },
    {
      "cell_type": "markdown",
      "source": [
        "En primer lugar, cargamos las librerias necesarias."
      ],
      "metadata": {
        "id": "h_IuV67nsUpE"
      }
    },
    {
      "cell_type": "code",
      "source": [
        "# !pip install num2words\n",
        "import nltk\n",
        "nltk.download('omw-1.4')"
      ],
      "metadata": {
        "colab": {
          "base_uri": "https://localhost:8080/"
        },
        "id": "-LaphpyVv3Ez",
        "outputId": "29f82de2-95bf-48ed-e769-eee9c3224901"
      },
      "execution_count": 17,
      "outputs": [
        {
          "output_type": "stream",
          "name": "stdout",
          "text": [
            "Looking in indexes: https://pypi.org/simple, https://us-python.pkg.dev/colab-wheels/public/simple/\n",
            "Requirement already satisfied: num2words in /usr/local/lib/python3.7/dist-packages (0.5.10)\n",
            "Requirement already satisfied: docopt>=0.6.2 in /usr/local/lib/python3.7/dist-packages (from num2words) (0.6.2)\n"
          ]
        },
        {
          "output_type": "stream",
          "name": "stderr",
          "text": [
            "[nltk_data] Downloading package omw-1.4 to /root/nltk_data...\n",
            "[nltk_data]   Unzipping corpora/omw-1.4.zip.\n"
          ]
        },
        {
          "output_type": "execute_result",
          "data": {
            "text/plain": [
              "True"
            ]
          },
          "metadata": {},
          "execution_count": 17
        }
      ]
    },
    {
      "cell_type": "code",
      "source": [
        "import pandas as pd\n",
        "import os\n",
        "import unicodedata\n",
        "from num2words import num2words\n",
        "import nltk\n",
        "from nltk import RegexpTokenizer\n",
        "from nltk.corpus import stopwords\n",
        "from nltk.stem import WordNetLemmatizer\n",
        "import random"
      ],
      "metadata": {
        "id": "6wurfl8xsKkE"
      },
      "execution_count": 10,
      "outputs": []
    },
    {
      "cell_type": "markdown",
      "source": [
        "Cargamos el dataset, lo descomprimimos y lo leemos."
      ],
      "metadata": {
        "id": "z1Kj4TMSsXnc"
      }
    },
    {
      "cell_type": "code",
      "execution_count": 11,
      "metadata": {
        "colab": {
          "base_uri": "https://localhost:8080/"
        },
        "id": "GXSEvjtSohYs",
        "outputId": "391546a1-bdb4-4ea2-b09f-ad674c689f8f"
      },
      "outputs": [
        {
          "output_type": "stream",
          "name": "stdout",
          "text": [
            "--2022-07-03 11:08:57--  http://snap.stanford.edu/data/amazon/productGraph/categoryFiles/reviews_Cell_Phones_and_Accessories_5.json.gz\n",
            "Resolving snap.stanford.edu (snap.stanford.edu)... 171.64.75.80\n",
            "Connecting to snap.stanford.edu (snap.stanford.edu)|171.64.75.80|:80... connected.\n",
            "HTTP request sent, awaiting response... 200 OK\n",
            "Length: 45409631 (43M) [application/x-gzip]\n",
            "Saving to: ‘reviews_Cell_Phones_and_Accessories_5.json.gz.1’\n",
            "\n",
            "reviews_Cell_Phones 100%[===================>]  43.31M  12.1MB/s    in 5.6s    \n",
            "\n",
            "2022-07-03 11:09:03 (7.69 MB/s) - ‘reviews_Cell_Phones_and_Accessories_5.json.gz.1’ saved [45409631/45409631]\n",
            "\n"
          ]
        }
      ],
      "source": [
        "! wget http://snap.stanford.edu/data/amazon/productGraph/categoryFiles/reviews_Cell_Phones_and_Accessories_5.json.gz"
      ]
    },
    {
      "cell_type": "code",
      "source": [
        "import pandas as pd\n",
        "data = pd.read_json(\"reviews_Cell_Phones_and_Accessories_5.json.gz\", lines = True, compression = \"gzip\")"
      ],
      "metadata": {
        "id": "UIQ6vv-bp9uK"
      },
      "execution_count": 12,
      "outputs": []
    },
    {
      "cell_type": "code",
      "source": [
        "reviews = data.get(\"reviewText\")\n",
        "reviews.head()"
      ],
      "metadata": {
        "colab": {
          "base_uri": "https://localhost:8080/"
        },
        "id": "Avmy5tvztoKb",
        "outputId": "4a7f6f2b-1988-456a-b494-e14a8bf977f0"
      },
      "execution_count": 13,
      "outputs": [
        {
          "output_type": "execute_result",
          "data": {
            "text/plain": [
              "0    They look good and stick good! I just don't li...\n",
              "1    These stickers work like the review says they ...\n",
              "2    These are awesome and make my phone look so st...\n",
              "3    Item arrived in great time and was in perfect ...\n",
              "4    awesome! stays on, and looks great. can be use...\n",
              "Name: reviewText, dtype: object"
            ]
          },
          "metadata": {},
          "execution_count": 13
        }
      ]
    },
    {
      "cell_type": "markdown",
      "source": [
        "### Preprocesado del texto ###"
      ],
      "metadata": {
        "id": "3LaUyW46sltG"
      }
    },
    {
      "cell_type": "markdown",
      "source": [
        "Cargamos un diccionario predefinido de contracciones del inglés que nos será util para tratar el texto de las reviews."
      ],
      "metadata": {
        "id": "nHOdK_FesodP"
      }
    },
    {
      "cell_type": "code",
      "source": [
        "contractions = { \n",
        "\"ain't\": \"am not\", \"aren't\": \"are not\", \"can't\": \"cannot\", \"can't've\": \"cannot have\", \"'cause\": \"because\", \"could've\": \"could have\",\n",
        "\"couldn't\": \"could not\", \"couldn't've\": \"could not have\", \"didn't\": \"did not\", \"doesn't\": \"does not\", \"don't\": \"do not\", \"hadn't\": \"had not\", \"hadn't've\": \"had not have\", \"hasn't\": \"has not\",\n",
        "\"haven't\": \"have not\", \"he'd\": \"he would\", \"he'd've\": \"he would have\", \"he'll\": \"he will\", \"he's\": \"he is\", \"how'd\": \"how did\", \"how'll\": \"how will\", \"how's\": \"how is\", \"i'd\": \"i would\",\n",
        "\"i'll\": \"i will\", \"i'm\": \"i am\", \"i've\": \"i have\", \"isn't\": \"is not\", \"it'd\": \"it would\", \"it'll\": \"it will\", \"it's\": \"it is\", \"let's\": \"let us\", \"ma'am\": \"madam\",\n",
        "\"mayn't\": \"may not\", \"might've\": \"might have\", \"mightn't\": \"might not\", \"must've\": \"must have\", \"mustn't\": \"must not\", \"needn't\": \"need not\", \"oughtn't\": \"ought not\",\n",
        "\"shan't\": \"shall not\", \"sha'n't\": \"shall not\", \"she'd\": \"she would\", \"she'll\": \"she will\", \"she's\": \"she is\", \"should've\": \"should have\", \"shouldn't\": \"should not\",\n",
        "\"that'd\": \"that would\", \"that's\": \"that is\", \"there'd\": \"there had\", \"there's\": \"there is\", \"they'd\": \"they would\", \"they'll\": \"they will\", \"they're\": \"they are\",\n",
        "\"they've\": \"they have\", \"wasn't\": \"was not\", \"we'd\": \"we would\", \"we'll\": \"we will\", \"we're\": \"we are\", \"we've\": \"we have\",\n",
        "\"weren't\": \"were not\", \"what'll\": \"what will\", \"what're\": \"what are\", \"what's\": \"what is\", \"what've\": \"what have\",\n",
        "\"where'd\": \"where did\", \"where's\": \"where is\", \"who'll\": \"who will\", \"who's\": \"who is\", \"won't\": \"will not\",\n",
        "\"wouldn't\": \"would not\", \"you'd\": \"you would\", \"you'll\": \"you will\", \"you're\": \"you are\"\n",
        "}"
      ],
      "metadata": {
        "id": "gNDq4ilhrOPZ"
      },
      "execution_count": 14,
      "outputs": []
    },
    {
      "cell_type": "markdown",
      "source": [
        "Definimos una función para limpiar nuestro texto:"
      ],
      "metadata": {
        "id": "qlrO9MOKs24F"
      }
    },
    {
      "cell_type": "code",
      "source": [
        "def nltk_cleaner(text):\n",
        "    clean_text = list()\n",
        "    tokenizer = RegexpTokenizer(r'\\w+')\n",
        "    sw_list = stopwords.words('english')\n",
        "    lemmatizer = WordNetLemmatizer()\n",
        "\n",
        "    #Convertir a minúsculas\n",
        "    text = text.lower().split()\n",
        "\n",
        "    #Quitar contracciones\n",
        "    text_aux = []\n",
        "    for word in text:\n",
        "        if word in contractions:\n",
        "            text_aux.append(contractions[word])\n",
        "        else:\n",
        "            text_aux.append(word)\n",
        "    text = \" \".join(text_aux)\n",
        "\n",
        "    # Eliminar acentos, etc\n",
        "    text = unicodedata.normalize('NFKD', text).encode('ascii', 'ignore').decode('utf-8', 'ignore')\n",
        "    \n",
        "    # Separar palabras eliminando signos de puntuación\n",
        "    for word in tokenizer.tokenize(text):\n",
        "        \n",
        "        # Eliminar stop words\n",
        "        if word not in sw_list:\n",
        "            \n",
        "        # Eliminar espacios sobrantes y lematizar\n",
        "            clean_word = lemmatizer.lemmatize(word).strip()\n",
        "        \n",
        "        # Convertir dígitos a palabras\n",
        "            if clean_word.isdigit():\n",
        "                clean_word = num2words(clean_word, lang='en')\n",
        "\n",
        "            clean_text.append(clean_word)\n",
        "            \n",
        "    return ' '.join(clean_text)"
      ],
      "metadata": {
        "id": "3j7rNnRys2Hq"
      },
      "execution_count": 15,
      "outputs": []
    },
    {
      "cell_type": "markdown",
      "source": [
        "Aplicamos la función de limpieza de texto a nuestras reviews."
      ],
      "metadata": {
        "id": "UhlhIFTZtPsQ"
      }
    },
    {
      "cell_type": "code",
      "source": [
        "nltk.download('stopwords')\n",
        "nltk.download('wordnet')\n",
        "clean_texts = []\n",
        "for review in reviews:\n",
        "    clean_texts.append(nltk_cleaner(review))"
      ],
      "metadata": {
        "colab": {
          "base_uri": "https://localhost:8080/"
        },
        "id": "eYuQxPBatW0E",
        "outputId": "fdb8b412-e5e1-42f0-e6fb-de5b69cd77cf"
      },
      "execution_count": 18,
      "outputs": [
        {
          "output_type": "stream",
          "name": "stderr",
          "text": [
            "[nltk_data] Downloading package stopwords to /root/nltk_data...\n",
            "[nltk_data]   Package stopwords is already up-to-date!\n",
            "[nltk_data] Downloading package wordnet to /root/nltk_data...\n",
            "[nltk_data]   Package wordnet is already up-to-date!\n"
          ]
        }
      ]
    },
    {
      "cell_type": "markdown",
      "source": [
        "Comprobamos que ha funcionado correctamente con una muestra aleatoria del dataset y guardamos el mismo en drive para trabajar con el más adelante, guardando solo las reviews procesadas, prescindiendo de las originales."
      ],
      "metadata": {
        "id": "1pYZY_rgyerj"
      }
    },
    {
      "cell_type": "code",
      "source": [
        "random.sample(clean_texts,5)"
      ],
      "metadata": {
        "colab": {
          "base_uri": "https://localhost:8080/"
        },
        "id": "f0kgkfwyytX-",
        "outputId": "091fa015-8566-48dc-f71a-89998002bb07"
      },
      "execution_count": 19,
      "outputs": [
        {
          "output_type": "execute_result",
          "data": {
            "text/plain": [
              "['like case much price point one edge pushing screen protector little bit causing air bubble probably installer issue',\n",
              " 'case fantastic durable feel really sturdy bought case wouldnt bring purse concert perfect hold license credit card two fifty bill ever need show love case phone still fit jean short pocket even fall really well protected totally worth seven paid prettiest case probably best quality definitely recommend',\n",
              " 'work perfect galaxy note three solid desk much cheaper option oem samsung version job',\n",
              " 'current favorite case provide protection lay table build quality feel nice two piece sell different colored back plate bottom port fit headphone tried standard apple lightning charger look like could fit brand lightning plug complaint case show scratch case phone',\n",
              " 'look performs however would rather extended battery understand would longer fit holster occasionally change battery price excellent alternative buying oem battery']"
            ]
          },
          "metadata": {},
          "execution_count": 19
        }
      ]
    },
    {
      "cell_type": "code",
      "source": [
        "data[\"cleaned_review\"] = clean_texts\n",
        "data.drop([\"reviewText\"], axis = \"columns\", inplace=True)\n",
        "data.head()"
      ],
      "metadata": {
        "colab": {
          "base_uri": "https://localhost:8080/",
          "height": 206
        },
        "id": "IvwRFiFayxLo",
        "outputId": "67048778-4a81-49eb-e3ae-4021f48b5223"
      },
      "execution_count": 20,
      "outputs": [
        {
          "output_type": "execute_result",
          "data": {
            "text/plain": [
              "       reviewerID        asin      reviewerName helpful  overall  \\\n",
              "0  A30TL5EWN6DFXT  120401325X         christina  [0, 0]        4   \n",
              "1   ASY55RVNIL0UD  120401325X          emily l.  [0, 0]        5   \n",
              "2  A2TMXE2AFO7ONB  120401325X             Erica  [0, 0]        5   \n",
              "3   AWJ0WZQYMYFQ4  120401325X                JM  [4, 4]        4   \n",
              "4   ATX7CZYFXI1KW  120401325X  patrice m rogoza  [2, 3]        5   \n",
              "\n",
              "                                     summary  unixReviewTime   reviewTime  \\\n",
              "0                                 Looks Good      1400630400  05 21, 2014   \n",
              "1                      Really great product.      1389657600  01 14, 2014   \n",
              "2                             LOVE LOVE LOVE      1403740800  06 26, 2014   \n",
              "3                                      Cute!      1382313600  10 21, 2013   \n",
              "4  leopard home button sticker for iphone 4s      1359849600   02 3, 2013   \n",
              "\n",
              "                                      cleaned_review  \n",
              "0  look good stick good like rounded shape always...  \n",
              "1  sticker work like review say stick great stay ...  \n",
              "2  awesome make phone look stylish used one far a...  \n",
              "3  item arrived great time perfect condition howe...  \n",
              "4  awesome stay look great used multiple apple pr...  "
            ],
            "text/html": [
              "\n",
              "  <div id=\"df-69bab045-afec-42a2-8fdb-1c4ee2b8dc25\">\n",
              "    <div class=\"colab-df-container\">\n",
              "      <div>\n",
              "<style scoped>\n",
              "    .dataframe tbody tr th:only-of-type {\n",
              "        vertical-align: middle;\n",
              "    }\n",
              "\n",
              "    .dataframe tbody tr th {\n",
              "        vertical-align: top;\n",
              "    }\n",
              "\n",
              "    .dataframe thead th {\n",
              "        text-align: right;\n",
              "    }\n",
              "</style>\n",
              "<table border=\"1\" class=\"dataframe\">\n",
              "  <thead>\n",
              "    <tr style=\"text-align: right;\">\n",
              "      <th></th>\n",
              "      <th>reviewerID</th>\n",
              "      <th>asin</th>\n",
              "      <th>reviewerName</th>\n",
              "      <th>helpful</th>\n",
              "      <th>overall</th>\n",
              "      <th>summary</th>\n",
              "      <th>unixReviewTime</th>\n",
              "      <th>reviewTime</th>\n",
              "      <th>cleaned_review</th>\n",
              "    </tr>\n",
              "  </thead>\n",
              "  <tbody>\n",
              "    <tr>\n",
              "      <th>0</th>\n",
              "      <td>A30TL5EWN6DFXT</td>\n",
              "      <td>120401325X</td>\n",
              "      <td>christina</td>\n",
              "      <td>[0, 0]</td>\n",
              "      <td>4</td>\n",
              "      <td>Looks Good</td>\n",
              "      <td>1400630400</td>\n",
              "      <td>05 21, 2014</td>\n",
              "      <td>look good stick good like rounded shape always...</td>\n",
              "    </tr>\n",
              "    <tr>\n",
              "      <th>1</th>\n",
              "      <td>ASY55RVNIL0UD</td>\n",
              "      <td>120401325X</td>\n",
              "      <td>emily l.</td>\n",
              "      <td>[0, 0]</td>\n",
              "      <td>5</td>\n",
              "      <td>Really great product.</td>\n",
              "      <td>1389657600</td>\n",
              "      <td>01 14, 2014</td>\n",
              "      <td>sticker work like review say stick great stay ...</td>\n",
              "    </tr>\n",
              "    <tr>\n",
              "      <th>2</th>\n",
              "      <td>A2TMXE2AFO7ONB</td>\n",
              "      <td>120401325X</td>\n",
              "      <td>Erica</td>\n",
              "      <td>[0, 0]</td>\n",
              "      <td>5</td>\n",
              "      <td>LOVE LOVE LOVE</td>\n",
              "      <td>1403740800</td>\n",
              "      <td>06 26, 2014</td>\n",
              "      <td>awesome make phone look stylish used one far a...</td>\n",
              "    </tr>\n",
              "    <tr>\n",
              "      <th>3</th>\n",
              "      <td>AWJ0WZQYMYFQ4</td>\n",
              "      <td>120401325X</td>\n",
              "      <td>JM</td>\n",
              "      <td>[4, 4]</td>\n",
              "      <td>4</td>\n",
              "      <td>Cute!</td>\n",
              "      <td>1382313600</td>\n",
              "      <td>10 21, 2013</td>\n",
              "      <td>item arrived great time perfect condition howe...</td>\n",
              "    </tr>\n",
              "    <tr>\n",
              "      <th>4</th>\n",
              "      <td>ATX7CZYFXI1KW</td>\n",
              "      <td>120401325X</td>\n",
              "      <td>patrice m rogoza</td>\n",
              "      <td>[2, 3]</td>\n",
              "      <td>5</td>\n",
              "      <td>leopard home button sticker for iphone 4s</td>\n",
              "      <td>1359849600</td>\n",
              "      <td>02 3, 2013</td>\n",
              "      <td>awesome stay look great used multiple apple pr...</td>\n",
              "    </tr>\n",
              "  </tbody>\n",
              "</table>\n",
              "</div>\n",
              "      <button class=\"colab-df-convert\" onclick=\"convertToInteractive('df-69bab045-afec-42a2-8fdb-1c4ee2b8dc25')\"\n",
              "              title=\"Convert this dataframe to an interactive table.\"\n",
              "              style=\"display:none;\">\n",
              "        \n",
              "  <svg xmlns=\"http://www.w3.org/2000/svg\" height=\"24px\"viewBox=\"0 0 24 24\"\n",
              "       width=\"24px\">\n",
              "    <path d=\"M0 0h24v24H0V0z\" fill=\"none\"/>\n",
              "    <path d=\"M18.56 5.44l.94 2.06.94-2.06 2.06-.94-2.06-.94-.94-2.06-.94 2.06-2.06.94zm-11 1L8.5 8.5l.94-2.06 2.06-.94-2.06-.94L8.5 2.5l-.94 2.06-2.06.94zm10 10l.94 2.06.94-2.06 2.06-.94-2.06-.94-.94-2.06-.94 2.06-2.06.94z\"/><path d=\"M17.41 7.96l-1.37-1.37c-.4-.4-.92-.59-1.43-.59-.52 0-1.04.2-1.43.59L10.3 9.45l-7.72 7.72c-.78.78-.78 2.05 0 2.83L4 21.41c.39.39.9.59 1.41.59.51 0 1.02-.2 1.41-.59l7.78-7.78 2.81-2.81c.8-.78.8-2.07 0-2.86zM5.41 20L4 18.59l7.72-7.72 1.47 1.35L5.41 20z\"/>\n",
              "  </svg>\n",
              "      </button>\n",
              "      \n",
              "  <style>\n",
              "    .colab-df-container {\n",
              "      display:flex;\n",
              "      flex-wrap:wrap;\n",
              "      gap: 12px;\n",
              "    }\n",
              "\n",
              "    .colab-df-convert {\n",
              "      background-color: #E8F0FE;\n",
              "      border: none;\n",
              "      border-radius: 50%;\n",
              "      cursor: pointer;\n",
              "      display: none;\n",
              "      fill: #1967D2;\n",
              "      height: 32px;\n",
              "      padding: 0 0 0 0;\n",
              "      width: 32px;\n",
              "    }\n",
              "\n",
              "    .colab-df-convert:hover {\n",
              "      background-color: #E2EBFA;\n",
              "      box-shadow: 0px 1px 2px rgba(60, 64, 67, 0.3), 0px 1px 3px 1px rgba(60, 64, 67, 0.15);\n",
              "      fill: #174EA6;\n",
              "    }\n",
              "\n",
              "    [theme=dark] .colab-df-convert {\n",
              "      background-color: #3B4455;\n",
              "      fill: #D2E3FC;\n",
              "    }\n",
              "\n",
              "    [theme=dark] .colab-df-convert:hover {\n",
              "      background-color: #434B5C;\n",
              "      box-shadow: 0px 1px 3px 1px rgba(0, 0, 0, 0.15);\n",
              "      filter: drop-shadow(0px 1px 2px rgba(0, 0, 0, 0.3));\n",
              "      fill: #FFFFFF;\n",
              "    }\n",
              "  </style>\n",
              "\n",
              "      <script>\n",
              "        const buttonEl =\n",
              "          document.querySelector('#df-69bab045-afec-42a2-8fdb-1c4ee2b8dc25 button.colab-df-convert');\n",
              "        buttonEl.style.display =\n",
              "          google.colab.kernel.accessAllowed ? 'block' : 'none';\n",
              "\n",
              "        async function convertToInteractive(key) {\n",
              "          const element = document.querySelector('#df-69bab045-afec-42a2-8fdb-1c4ee2b8dc25');\n",
              "          const dataTable =\n",
              "            await google.colab.kernel.invokeFunction('convertToInteractive',\n",
              "                                                     [key], {});\n",
              "          if (!dataTable) return;\n",
              "\n",
              "          const docLinkHtml = 'Like what you see? Visit the ' +\n",
              "            '<a target=\"_blank\" href=https://colab.research.google.com/notebooks/data_table.ipynb>data table notebook</a>'\n",
              "            + ' to learn more about interactive tables.';\n",
              "          element.innerHTML = '';\n",
              "          dataTable['output_type'] = 'display_data';\n",
              "          await google.colab.output.renderOutput(dataTable, element);\n",
              "          const docLink = document.createElement('div');\n",
              "          docLink.innerHTML = docLinkHtml;\n",
              "          element.appendChild(docLink);\n",
              "        }\n",
              "      </script>\n",
              "    </div>\n",
              "  </div>\n",
              "  "
            ]
          },
          "metadata": {},
          "execution_count": 20
        }
      ]
    },
    {
      "cell_type": "code",
      "source": [
        "from google.colab import drive\n",
        "drive.mount('/content/drive')\n",
        "\n",
        "clean_data = data.dropna(subset=[\"cleaned_review\", \"overall\"])[[\"cleaned_review\", \"overall\"]]\n",
        "clean_data.to_csv('drive/MyDrive/Datasets/cleaned_cellphones.csv', index=False) "
      ],
      "metadata": {
        "colab": {
          "base_uri": "https://localhost:8080/"
        },
        "id": "dxzjF-FezBNF",
        "outputId": "e6d7de1d-ef9d-46d0-de29-f60ce94f6343"
      },
      "execution_count": 22,
      "outputs": [
        {
          "output_type": "stream",
          "name": "stdout",
          "text": [
            "Mounted at /content/drive\n"
          ]
        }
      ]
    }
  ]
}