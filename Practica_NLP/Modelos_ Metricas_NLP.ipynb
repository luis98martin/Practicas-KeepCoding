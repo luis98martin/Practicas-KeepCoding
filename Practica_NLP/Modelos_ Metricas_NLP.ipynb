{
  "nbformat": 4,
  "nbformat_minor": 0,
  "metadata": {
    "colab": {
      "name": "ETM_Reviews_NLP.ipynb",
      "provenance": [],
      "collapsed_sections": []
    },
    "kernelspec": {
      "name": "python3",
      "display_name": "Python 3"
    },
    "language_info": {
      "name": "python"
    },
    "accelerator": "GPU",
    "gpuClass": "standard"
  },
  "cells": [
    {
      "cell_type": "markdown",
      "source": [
        "## Entrega Práctica NLP - Entrenamiento, Test y Métricas - Luis Martín Vegas ##"
      ],
      "metadata": {
        "id": "dzKtCODR0fwL"
      }
    },
    {
      "cell_type": "markdown",
      "source": [
        "Cargamos las librerias que necesitaremos."
      ],
      "metadata": {
        "id": "U-92Cq2oemMn"
      }
    },
    {
      "cell_type": "code",
      "source": [
        "import pandas as pd\n",
        "from sklearn.model_selection import train_test_split\n",
        "from sklearn.feature_extraction.text import TfidfVectorizer\n",
        "from sklearn.linear_model import LogisticRegression\n",
        "from sklearn.metrics import accuracy_score, confusion_matrix, classification_report\n",
        "import pickle\n",
        "from sklearn.naive_bayes import MultinomialNB\n",
        "import matplotlib.pyplot as plt\n",
        "import numpy as np\n",
        "import random"
      ],
      "metadata": {
        "id": "SSGnrxGaeosP"
      },
      "execution_count": 4,
      "outputs": []
    },
    {
      "cell_type": "markdown",
      "source": [
        "Cargamos el dataset con las reviews ya procesadas."
      ],
      "metadata": {
        "id": "IiomrDRQd_D9"
      }
    },
    {
      "cell_type": "code",
      "execution_count": 5,
      "metadata": {
        "colab": {
          "base_uri": "https://localhost:8080/"
        },
        "id": "FTwCW4MM0RrM",
        "outputId": "27bb2fa4-3662-4257-f5c5-cc35dd1a0770"
      },
      "outputs": [
        {
          "output_type": "stream",
          "name": "stdout",
          "text": [
            "Drive already mounted at /content/drive; to attempt to forcibly remount, call drive.mount(\"/content/drive\", force_remount=True).\n"
          ]
        }
      ],
      "source": [
        "from google.colab import drive\n",
        "drive.mount('/content/drive')"
      ]
    },
    {
      "cell_type": "code",
      "source": [
        "df = pd.read_csv(\"drive/MyDrive/Datasets/cleaned_cellphones.csv\")\n",
        "df.head()"
      ],
      "metadata": {
        "colab": {
          "base_uri": "https://localhost:8080/",
          "height": 206
        },
        "id": "E-vZ22ILevut",
        "outputId": "0b56f638-590b-4ed6-9031-1850e25dbb55"
      },
      "execution_count": 6,
      "outputs": [
        {
          "output_type": "execute_result",
          "data": {
            "text/plain": [
              "                                      cleaned_review  overall\n",
              "0  look good stick good like rounded shape always...        4\n",
              "1  sticker work like review say stick great stay ...        5\n",
              "2  awesome make phone look stylish used one far a...        5\n",
              "3  item arrived great time perfect condition howe...        4\n",
              "4  awesome stay look great used multiple apple pr...        5"
            ],
            "text/html": [
              "\n",
              "  <div id=\"df-46007633-07aa-48ca-8e73-38f2318bc18b\">\n",
              "    <div class=\"colab-df-container\">\n",
              "      <div>\n",
              "<style scoped>\n",
              "    .dataframe tbody tr th:only-of-type {\n",
              "        vertical-align: middle;\n",
              "    }\n",
              "\n",
              "    .dataframe tbody tr th {\n",
              "        vertical-align: top;\n",
              "    }\n",
              "\n",
              "    .dataframe thead th {\n",
              "        text-align: right;\n",
              "    }\n",
              "</style>\n",
              "<table border=\"1\" class=\"dataframe\">\n",
              "  <thead>\n",
              "    <tr style=\"text-align: right;\">\n",
              "      <th></th>\n",
              "      <th>cleaned_review</th>\n",
              "      <th>overall</th>\n",
              "    </tr>\n",
              "  </thead>\n",
              "  <tbody>\n",
              "    <tr>\n",
              "      <th>0</th>\n",
              "      <td>look good stick good like rounded shape always...</td>\n",
              "      <td>4</td>\n",
              "    </tr>\n",
              "    <tr>\n",
              "      <th>1</th>\n",
              "      <td>sticker work like review say stick great stay ...</td>\n",
              "      <td>5</td>\n",
              "    </tr>\n",
              "    <tr>\n",
              "      <th>2</th>\n",
              "      <td>awesome make phone look stylish used one far a...</td>\n",
              "      <td>5</td>\n",
              "    </tr>\n",
              "    <tr>\n",
              "      <th>3</th>\n",
              "      <td>item arrived great time perfect condition howe...</td>\n",
              "      <td>4</td>\n",
              "    </tr>\n",
              "    <tr>\n",
              "      <th>4</th>\n",
              "      <td>awesome stay look great used multiple apple pr...</td>\n",
              "      <td>5</td>\n",
              "    </tr>\n",
              "  </tbody>\n",
              "</table>\n",
              "</div>\n",
              "      <button class=\"colab-df-convert\" onclick=\"convertToInteractive('df-46007633-07aa-48ca-8e73-38f2318bc18b')\"\n",
              "              title=\"Convert this dataframe to an interactive table.\"\n",
              "              style=\"display:none;\">\n",
              "        \n",
              "  <svg xmlns=\"http://www.w3.org/2000/svg\" height=\"24px\"viewBox=\"0 0 24 24\"\n",
              "       width=\"24px\">\n",
              "    <path d=\"M0 0h24v24H0V0z\" fill=\"none\"/>\n",
              "    <path d=\"M18.56 5.44l.94 2.06.94-2.06 2.06-.94-2.06-.94-.94-2.06-.94 2.06-2.06.94zm-11 1L8.5 8.5l.94-2.06 2.06-.94-2.06-.94L8.5 2.5l-.94 2.06-2.06.94zm10 10l.94 2.06.94-2.06 2.06-.94-2.06-.94-.94-2.06-.94 2.06-2.06.94z\"/><path d=\"M17.41 7.96l-1.37-1.37c-.4-.4-.92-.59-1.43-.59-.52 0-1.04.2-1.43.59L10.3 9.45l-7.72 7.72c-.78.78-.78 2.05 0 2.83L4 21.41c.39.39.9.59 1.41.59.51 0 1.02-.2 1.41-.59l7.78-7.78 2.81-2.81c.8-.78.8-2.07 0-2.86zM5.41 20L4 18.59l7.72-7.72 1.47 1.35L5.41 20z\"/>\n",
              "  </svg>\n",
              "      </button>\n",
              "      \n",
              "  <style>\n",
              "    .colab-df-container {\n",
              "      display:flex;\n",
              "      flex-wrap:wrap;\n",
              "      gap: 12px;\n",
              "    }\n",
              "\n",
              "    .colab-df-convert {\n",
              "      background-color: #E8F0FE;\n",
              "      border: none;\n",
              "      border-radius: 50%;\n",
              "      cursor: pointer;\n",
              "      display: none;\n",
              "      fill: #1967D2;\n",
              "      height: 32px;\n",
              "      padding: 0 0 0 0;\n",
              "      width: 32px;\n",
              "    }\n",
              "\n",
              "    .colab-df-convert:hover {\n",
              "      background-color: #E2EBFA;\n",
              "      box-shadow: 0px 1px 2px rgba(60, 64, 67, 0.3), 0px 1px 3px 1px rgba(60, 64, 67, 0.15);\n",
              "      fill: #174EA6;\n",
              "    }\n",
              "\n",
              "    [theme=dark] .colab-df-convert {\n",
              "      background-color: #3B4455;\n",
              "      fill: #D2E3FC;\n",
              "    }\n",
              "\n",
              "    [theme=dark] .colab-df-convert:hover {\n",
              "      background-color: #434B5C;\n",
              "      box-shadow: 0px 1px 3px 1px rgba(0, 0, 0, 0.15);\n",
              "      filter: drop-shadow(0px 1px 2px rgba(0, 0, 0, 0.3));\n",
              "      fill: #FFFFFF;\n",
              "    }\n",
              "  </style>\n",
              "\n",
              "      <script>\n",
              "        const buttonEl =\n",
              "          document.querySelector('#df-46007633-07aa-48ca-8e73-38f2318bc18b button.colab-df-convert');\n",
              "        buttonEl.style.display =\n",
              "          google.colab.kernel.accessAllowed ? 'block' : 'none';\n",
              "\n",
              "        async function convertToInteractive(key) {\n",
              "          const element = document.querySelector('#df-46007633-07aa-48ca-8e73-38f2318bc18b');\n",
              "          const dataTable =\n",
              "            await google.colab.kernel.invokeFunction('convertToInteractive',\n",
              "                                                     [key], {});\n",
              "          if (!dataTable) return;\n",
              "\n",
              "          const docLinkHtml = 'Like what you see? Visit the ' +\n",
              "            '<a target=\"_blank\" href=https://colab.research.google.com/notebooks/data_table.ipynb>data table notebook</a>'\n",
              "            + ' to learn more about interactive tables.';\n",
              "          element.innerHTML = '';\n",
              "          dataTable['output_type'] = 'display_data';\n",
              "          await google.colab.output.renderOutput(dataTable, element);\n",
              "          const docLink = document.createElement('div');\n",
              "          docLink.innerHTML = docLinkHtml;\n",
              "          element.appendChild(docLink);\n",
              "        }\n",
              "      </script>\n",
              "    </div>\n",
              "  </div>\n",
              "  "
            ]
          },
          "metadata": {},
          "execution_count": 6
        }
      ]
    },
    {
      "cell_type": "markdown",
      "source": [
        "Generamos una variable de sentimiento de acuerdo con la valoración de la review."
      ],
      "metadata": {
        "id": "W189Vv7xeC8S"
      }
    },
    {
      "cell_type": "code",
      "source": [
        "df.loc[:, 'sentiment'] = [0 if rank <= 3 else 1 for rank in df['overall']]\n",
        "df = df[df['cleaned_review'] != ''].sample(2000).reset_index(drop=True)\n",
        "df.head()"
      ],
      "metadata": {
        "colab": {
          "base_uri": "https://localhost:8080/",
          "height": 206
        },
        "id": "gssV1X1CeHQo",
        "outputId": "baa2ed0f-d07d-449b-d9b9-995730a693e6"
      },
      "execution_count": 7,
      "outputs": [
        {
          "output_type": "execute_result",
          "data": {
            "text/plain": [
              "                                      cleaned_review  overall  sentiment\n",
              "0  pro seems like nicely made product compact suc...        3          0\n",
              "1  nt120t outstanding battery pack sleek function...        5          1\n",
              "2  bought headset want hassle wired headset price...        5          1\n",
              "3  heard flip drive ue miniboom oontz wound picki...        4          1\n",
              "4  going though different brand style etc headset...        3          0"
            ],
            "text/html": [
              "\n",
              "  <div id=\"df-39b6fe51-026b-4fe8-a2db-a0a7093f1342\">\n",
              "    <div class=\"colab-df-container\">\n",
              "      <div>\n",
              "<style scoped>\n",
              "    .dataframe tbody tr th:only-of-type {\n",
              "        vertical-align: middle;\n",
              "    }\n",
              "\n",
              "    .dataframe tbody tr th {\n",
              "        vertical-align: top;\n",
              "    }\n",
              "\n",
              "    .dataframe thead th {\n",
              "        text-align: right;\n",
              "    }\n",
              "</style>\n",
              "<table border=\"1\" class=\"dataframe\">\n",
              "  <thead>\n",
              "    <tr style=\"text-align: right;\">\n",
              "      <th></th>\n",
              "      <th>cleaned_review</th>\n",
              "      <th>overall</th>\n",
              "      <th>sentiment</th>\n",
              "    </tr>\n",
              "  </thead>\n",
              "  <tbody>\n",
              "    <tr>\n",
              "      <th>0</th>\n",
              "      <td>pro seems like nicely made product compact suc...</td>\n",
              "      <td>3</td>\n",
              "      <td>0</td>\n",
              "    </tr>\n",
              "    <tr>\n",
              "      <th>1</th>\n",
              "      <td>nt120t outstanding battery pack sleek function...</td>\n",
              "      <td>5</td>\n",
              "      <td>1</td>\n",
              "    </tr>\n",
              "    <tr>\n",
              "      <th>2</th>\n",
              "      <td>bought headset want hassle wired headset price...</td>\n",
              "      <td>5</td>\n",
              "      <td>1</td>\n",
              "    </tr>\n",
              "    <tr>\n",
              "      <th>3</th>\n",
              "      <td>heard flip drive ue miniboom oontz wound picki...</td>\n",
              "      <td>4</td>\n",
              "      <td>1</td>\n",
              "    </tr>\n",
              "    <tr>\n",
              "      <th>4</th>\n",
              "      <td>going though different brand style etc headset...</td>\n",
              "      <td>3</td>\n",
              "      <td>0</td>\n",
              "    </tr>\n",
              "  </tbody>\n",
              "</table>\n",
              "</div>\n",
              "      <button class=\"colab-df-convert\" onclick=\"convertToInteractive('df-39b6fe51-026b-4fe8-a2db-a0a7093f1342')\"\n",
              "              title=\"Convert this dataframe to an interactive table.\"\n",
              "              style=\"display:none;\">\n",
              "        \n",
              "  <svg xmlns=\"http://www.w3.org/2000/svg\" height=\"24px\"viewBox=\"0 0 24 24\"\n",
              "       width=\"24px\">\n",
              "    <path d=\"M0 0h24v24H0V0z\" fill=\"none\"/>\n",
              "    <path d=\"M18.56 5.44l.94 2.06.94-2.06 2.06-.94-2.06-.94-.94-2.06-.94 2.06-2.06.94zm-11 1L8.5 8.5l.94-2.06 2.06-.94-2.06-.94L8.5 2.5l-.94 2.06-2.06.94zm10 10l.94 2.06.94-2.06 2.06-.94-2.06-.94-.94-2.06-.94 2.06-2.06.94z\"/><path d=\"M17.41 7.96l-1.37-1.37c-.4-.4-.92-.59-1.43-.59-.52 0-1.04.2-1.43.59L10.3 9.45l-7.72 7.72c-.78.78-.78 2.05 0 2.83L4 21.41c.39.39.9.59 1.41.59.51 0 1.02-.2 1.41-.59l7.78-7.78 2.81-2.81c.8-.78.8-2.07 0-2.86zM5.41 20L4 18.59l7.72-7.72 1.47 1.35L5.41 20z\"/>\n",
              "  </svg>\n",
              "      </button>\n",
              "      \n",
              "  <style>\n",
              "    .colab-df-container {\n",
              "      display:flex;\n",
              "      flex-wrap:wrap;\n",
              "      gap: 12px;\n",
              "    }\n",
              "\n",
              "    .colab-df-convert {\n",
              "      background-color: #E8F0FE;\n",
              "      border: none;\n",
              "      border-radius: 50%;\n",
              "      cursor: pointer;\n",
              "      display: none;\n",
              "      fill: #1967D2;\n",
              "      height: 32px;\n",
              "      padding: 0 0 0 0;\n",
              "      width: 32px;\n",
              "    }\n",
              "\n",
              "    .colab-df-convert:hover {\n",
              "      background-color: #E2EBFA;\n",
              "      box-shadow: 0px 1px 2px rgba(60, 64, 67, 0.3), 0px 1px 3px 1px rgba(60, 64, 67, 0.15);\n",
              "      fill: #174EA6;\n",
              "    }\n",
              "\n",
              "    [theme=dark] .colab-df-convert {\n",
              "      background-color: #3B4455;\n",
              "      fill: #D2E3FC;\n",
              "    }\n",
              "\n",
              "    [theme=dark] .colab-df-convert:hover {\n",
              "      background-color: #434B5C;\n",
              "      box-shadow: 0px 1px 3px 1px rgba(0, 0, 0, 0.15);\n",
              "      filter: drop-shadow(0px 1px 2px rgba(0, 0, 0, 0.3));\n",
              "      fill: #FFFFFF;\n",
              "    }\n",
              "  </style>\n",
              "\n",
              "      <script>\n",
              "        const buttonEl =\n",
              "          document.querySelector('#df-39b6fe51-026b-4fe8-a2db-a0a7093f1342 button.colab-df-convert');\n",
              "        buttonEl.style.display =\n",
              "          google.colab.kernel.accessAllowed ? 'block' : 'none';\n",
              "\n",
              "        async function convertToInteractive(key) {\n",
              "          const element = document.querySelector('#df-39b6fe51-026b-4fe8-a2db-a0a7093f1342');\n",
              "          const dataTable =\n",
              "            await google.colab.kernel.invokeFunction('convertToInteractive',\n",
              "                                                     [key], {});\n",
              "          if (!dataTable) return;\n",
              "\n",
              "          const docLinkHtml = 'Like what you see? Visit the ' +\n",
              "            '<a target=\"_blank\" href=https://colab.research.google.com/notebooks/data_table.ipynb>data table notebook</a>'\n",
              "            + ' to learn more about interactive tables.';\n",
              "          element.innerHTML = '';\n",
              "          dataTable['output_type'] = 'display_data';\n",
              "          await google.colab.output.renderOutput(dataTable, element);\n",
              "          const docLink = document.createElement('div');\n",
              "          docLink.innerHTML = docLinkHtml;\n",
              "          element.appendChild(docLink);\n",
              "        }\n",
              "      </script>\n",
              "    </div>\n",
              "  </div>\n",
              "  "
            ]
          },
          "metadata": {},
          "execution_count": 7
        }
      ]
    },
    {
      "cell_type": "markdown",
      "source": [
        "Separamos el dataset en training y test set. En este caso no utilizaremos validation set para optimizar los hiperparámetros del modelo. Realizaremos la evaluación directamente con el test set."
      ],
      "metadata": {
        "id": "sA1E_CVteYAf"
      }
    },
    {
      "cell_type": "code",
      "source": [
        "X_train, X_test, y_train, y_test = train_test_split(\n",
        "    df['cleaned_review'],\n",
        "    df['sentiment'],\n",
        "    train_size=0.75,\n",
        "    test_size=0.25,\n",
        "    random_state=42,\n",
        "    shuffle=True,\n",
        "    stratify=df['sentiment']\n",
        ")"
      ],
      "metadata": {
        "id": "iVqZMaYMehk2"
      },
      "execution_count": 8,
      "outputs": []
    },
    {
      "cell_type": "markdown",
      "source": [
        "Extraemos las features del texto de nuestras reviews utilizando TFIDF."
      ],
      "metadata": {
        "id": "sue1aS-3e4nE"
      }
    },
    {
      "cell_type": "code",
      "source": [
        "cv = TfidfVectorizer(\n",
        "    max_df=0.95,\n",
        "    min_df=5,\n",
        "    max_features=2500,\n",
        "    strip_accents='ascii',\n",
        "    ngram_range=(1, 1)\n",
        ")\n",
        "\n",
        "cv"
      ],
      "metadata": {
        "colab": {
          "base_uri": "https://localhost:8080/"
        },
        "id": "PG9DgR9Fe_se",
        "outputId": "381fc462-3298-45be-d587-94829bcbad92"
      },
      "execution_count": 9,
      "outputs": [
        {
          "output_type": "execute_result",
          "data": {
            "text/plain": [
              "TfidfVectorizer(max_df=0.95, max_features=2500, min_df=5, strip_accents='ascii')"
            ]
          },
          "metadata": {},
          "execution_count": 9
        }
      ]
    },
    {
      "cell_type": "markdown",
      "source": [
        "Ejemplos de los TF-IDF scores del training set y test set."
      ],
      "metadata": {
        "id": "Wf9j_tGEfFcA"
      }
    },
    {
      "cell_type": "code",
      "source": [
        "cv.fit(X_train.values.astype('U'))\n",
        "print(list(cv.vocabulary_.items())[:20])\n",
        "print(len(cv.vocabulary_))\n",
        "X_train_ = cv.transform(X_train)\n",
        "X_test_ = cv.transform(X_test)"
      ],
      "metadata": {
        "colab": {
          "base_uri": "https://localhost:8080/"
        },
        "id": "I3YeTRZXfGKk",
        "outputId": "18ce4f7d-6dfd-4dbd-e8de-cf6a66e283b0"
      },
      "execution_count": 10,
      "outputs": [
        {
          "output_type": "stream",
          "name": "stdout",
          "text": [
            "[('making', 832), ('stylus', 1407), ('also', 51), ('function', 565), ('pen', 1007), ('great', 604), ('idea', 672), ('carry', 210), ('pocket', 1047), ('look', 807), ('one', 952), ('would', 1628), ('like', 785), ('make', 831), ('able', 10), ('fit', 525), ('end', 447), ('writing', 1632), ('concerned', 287), ('losing', 812)]\n",
            "1640\n"
          ]
        }
      ]
    },
    {
      "cell_type": "markdown",
      "source": [
        "Entrenamos un modelo con distintos hiperparámetros a fin de optimizarlos evaluando la accuracy."
      ],
      "metadata": {
        "id": "D3R4B11AfZyt"
      }
    },
    {
      "cell_type": "code",
      "source": [
        "c_params = [0.01, 0.05, 0.25, 0.5, 1, 10, 100, 1000, 10000]\n",
        "\n",
        "train_acc = list()\n",
        "test_acc = list()\n",
        "for c in c_params:\n",
        "    lr = LogisticRegression(C=c, solver='lbfgs', max_iter=500)\n",
        "    lr.fit(X_train_, y_train)\n",
        "    \n",
        "    train_predict = lr.predict(X_train_)\n",
        "    test_predict = lr.predict(X_test_)\n",
        "    \n",
        "    print (\"Accuracy for C={}: {}\".format(c, accuracy_score(y_test, test_predict)))\n",
        "    \n",
        "    train_acc.append(accuracy_score(y_train, train_predict))\n",
        "    test_acc.append(accuracy_score(y_test, test_predict))"
      ],
      "metadata": {
        "colab": {
          "base_uri": "https://localhost:8080/"
        },
        "id": "XvclrjW8fg7S",
        "outputId": "de7a5d23-e97d-42ca-879e-50002e7e3fd0"
      },
      "execution_count": 11,
      "outputs": [
        {
          "output_type": "stream",
          "name": "stdout",
          "text": [
            "Accuracy for C=0.01: 0.762\n",
            "Accuracy for C=0.05: 0.762\n",
            "Accuracy for C=0.25: 0.762\n",
            "Accuracy for C=0.5: 0.764\n",
            "Accuracy for C=1: 0.784\n",
            "Accuracy for C=10: 0.806\n",
            "Accuracy for C=100: 0.78\n",
            "Accuracy for C=1000: 0.756\n",
            "Accuracy for C=10000: 0.752\n"
          ]
        }
      ]
    },
    {
      "cell_type": "markdown",
      "source": [
        "La Accuracy del modelo mejora considerablemente para C=10.\n",
        "Lo visualizamos para train y para test set."
      ],
      "metadata": {
        "id": "O8-CGDqjfp7o"
      }
    },
    {
      "cell_type": "code",
      "source": [
        "plt.figure(figsize=(12, 8))\n",
        "plt.plot(train_acc, label='train')\n",
        "plt.plot(test_acc, label='test')\n",
        "plt.axvline(np.argmax(test_acc), c='g', ls='--', alpha=0.8)\n",
        "plt.title('Accuracy evolution for different C values')\n",
        "plt.xlabel('C')\n",
        "plt.ylabel('Accuracy')\n",
        "plt.legend()\n",
        "plt.grid()\n",
        "plt.xticks(list(range(len(c_params))), c_params)\n",
        "plt.tight_layout()\n",
        "plt.show()"
      ],
      "metadata": {
        "colab": {
          "base_uri": "https://localhost:8080/",
          "height": 585
        },
        "id": "qgGD8YjjfmW1",
        "outputId": "697a61b1-f454-451f-9472-0ef9dab0651a"
      },
      "execution_count": 12,
      "outputs": [
        {
          "output_type": "display_data",
          "data": {
            "text/plain": [
              "<Figure size 864x576 with 1 Axes>"
            ],
            "image/png": "[encoded data removed]"
          },
          "metadata": {
            "needs_background": "light"
          }
        }
      ]
    },
    {
      "cell_type": "markdown",
      "source": [
        "Si bien los resultados son peores para test, podemos observar que para ambos C=10 da los resultados óptimos."
      ],
      "metadata": {
        "id": "fqIL4Bvtf1aR"
      }
    },
    {
      "cell_type": "code",
      "source": [
        "lr = LogisticRegression(C=10, solver='lbfgs', max_iter=500)\n",
        "lr.fit(X_train_, y_train)\n",
        "lr_train_predict = lr.predict(X_train_)\n",
        "lr_test_predict = lr.predict(X_test_)\n",
        "pickle.dump(lr, open('../content/lr.pkl', 'wb'))"
      ],
      "metadata": {
        "id": "YpaAJjH3gLpF"
      },
      "execution_count": 13,
      "outputs": []
    },
    {
      "cell_type": "code",
      "source": [
        "def print_model_metrics(y_test, y_test_predict):\n",
        "    print('Confussion matrix:\\n{}'.format(confusion_matrix(y_test, y_test_predict)))\n",
        "    print('\\nClassification report:\\n{}'.format(classification_report(y_test, y_test_predict)))\n",
        "    print('Accuracy score:{}'.format(accuracy_score(y_test, y_test_predict)))"
      ],
      "metadata": {
        "id": "UXypVy5jgQLO"
      },
      "execution_count": 14,
      "outputs": []
    },
    {
      "cell_type": "code",
      "source": [
        "print_model_metrics(y_test, lr_test_predict)"
      ],
      "metadata": {
        "colab": {
          "base_uri": "https://localhost:8080/"
        },
        "id": "C7O4rzYBgRpf",
        "outputId": "453a7521-443c-446f-fe46-726afb7a19d9"
      },
      "execution_count": 15,
      "outputs": [
        {
          "output_type": "stream",
          "name": "stdout",
          "text": [
            "Confussion matrix:\n",
            "[[ 45  74]\n",
            " [ 23 358]]\n",
            "\n",
            "Classification report:\n",
            "              precision    recall  f1-score   support\n",
            "\n",
            "           0       0.66      0.38      0.48       119\n",
            "           1       0.83      0.94      0.88       381\n",
            "\n",
            "    accuracy                           0.81       500\n",
            "   macro avg       0.75      0.66      0.68       500\n",
            "weighted avg       0.79      0.81      0.79       500\n",
            "\n",
            "Accuracy score:0.806\n"
          ]
        }
      ]
    },
    {
      "cell_type": "markdown",
      "source": [
        "Probamos a entrenar otro tipo de modelo para comparar los resultados obtenidos. En este caso, entrenaremos un modelo de Multinomial Naive Bayes."
      ],
      "metadata": {
        "id": "qgq7H3Lwgiha"
      }
    },
    {
      "cell_type": "code",
      "source": [
        "mnb = MultinomialNB()\n",
        "mnb.fit(X_train_, y_train)\n",
        "mnb_train_predict = mnb.predict(X_train_)\n",
        "mnb_test_predict = mnb.predict(X_test_)\n",
        "mnb_test_predict_accuracy = accuracy_score(y_test, mnb_test_predict)\n",
        "mnb_test_predict_accuracy"
      ],
      "metadata": {
        "colab": {
          "base_uri": "https://localhost:8080/"
        },
        "id": "6Z8eN7zLgYQy",
        "outputId": "1a54ea2a-976c-4fe9-8bc0-26b18931acdc"
      },
      "execution_count": 16,
      "outputs": [
        {
          "output_type": "execute_result",
          "data": {
            "text/plain": [
              "0.766"
            ]
          },
          "metadata": {},
          "execution_count": 16
        }
      ]
    },
    {
      "cell_type": "code",
      "source": [
        "pickle.dump(mnb, open('../content/mnb.pkl', 'wb'))"
      ],
      "metadata": {
        "id": "SyVqrJOqgaMM"
      },
      "execution_count": 17,
      "outputs": []
    },
    {
      "cell_type": "code",
      "source": [
        "print_model_metrics(y_test, mnb_test_predict)"
      ],
      "metadata": {
        "colab": {
          "base_uri": "https://localhost:8080/"
        },
        "id": "ZbzaNn9hgc3H",
        "outputId": "faf1d4b6-9e41-4bf5-baa9-8ee813fcc6c4"
      },
      "execution_count": 18,
      "outputs": [
        {
          "output_type": "stream",
          "name": "stdout",
          "text": [
            "Confussion matrix:\n",
            "[[  2 117]\n",
            " [  0 381]]\n",
            "\n",
            "Classification report:\n",
            "              precision    recall  f1-score   support\n",
            "\n",
            "           0       1.00      0.02      0.03       119\n",
            "           1       0.77      1.00      0.87       381\n",
            "\n",
            "    accuracy                           0.77       500\n",
            "   macro avg       0.88      0.51      0.45       500\n",
            "weighted avg       0.82      0.77      0.67       500\n",
            "\n",
            "Accuracy score:0.766\n"
          ]
        }
      ]
    },
    {
      "cell_type": "markdown",
      "source": [
        "Los resultados son mejores para la Regresión Logística, presentando una mayor accuracy."
      ],
      "metadata": {
        "id": "kOewVUs7gpyd"
      }
    },
    {
      "cell_type": "markdown",
      "source": [
        "Definimos una función que nos permita comprobar, para algunos ejemplos de reviews, el sentimiento real frente el predicho."
      ],
      "metadata": {
        "id": "-_ygTj8egzu-"
      }
    },
    {
      "cell_type": "code",
      "source": [
        "def predict_review_sentiment(review_index, model):\n",
        "    print('Actual sentiment: {}'.format(df.iloc[review_index,2]))\n",
        "    r = df.iloc[review_index,0]\n",
        "    print('Prediction with lr: {}'.format(lr.predict(cv.transform([r]))))\n",
        "    print('Prediction with mnb: {}'.format(mnb.predict(cv.transform([r]))))"
      ],
      "metadata": {
        "id": "cKTxmOKyg8me"
      },
      "execution_count": 19,
      "outputs": []
    },
    {
      "cell_type": "code",
      "source": [
        "for i in random.sample(range(0, len(df)), 10):\n",
        "    print('\\nReview no. {}'.format(i))\n",
        "    predict_review_sentiment(i, lr)"
      ],
      "metadata": {
        "colab": {
          "base_uri": "https://localhost:8080/"
        },
        "id": "fuRB8O6Lg-lN",
        "outputId": "78a4f57f-201b-4653-b626-a9af52e3277b"
      },
      "execution_count": 20,
      "outputs": [
        {
          "output_type": "stream",
          "name": "stdout",
          "text": [
            "\n",
            "Review no. 260\n",
            "Actual sentiment: 1\n",
            "Prediction with lr: [1]\n",
            "Prediction with mnb: [1]\n",
            "\n",
            "Review no. 201\n",
            "Actual sentiment: 0\n",
            "Prediction with lr: [1]\n",
            "Prediction with mnb: [1]\n",
            "\n",
            "Review no. 1276\n",
            "Actual sentiment: 1\n",
            "Prediction with lr: [1]\n",
            "Prediction with mnb: [1]\n",
            "\n",
            "Review no. 1010\n",
            "Actual sentiment: 1\n",
            "Prediction with lr: [1]\n",
            "Prediction with mnb: [1]\n",
            "\n",
            "Review no. 1943\n",
            "Actual sentiment: 1\n",
            "Prediction with lr: [1]\n",
            "Prediction with mnb: [1]\n",
            "\n",
            "Review no. 1072\n",
            "Actual sentiment: 1\n",
            "Prediction with lr: [1]\n",
            "Prediction with mnb: [1]\n",
            "\n",
            "Review no. 1301\n",
            "Actual sentiment: 1\n",
            "Prediction with lr: [1]\n",
            "Prediction with mnb: [1]\n",
            "\n",
            "Review no. 911\n",
            "Actual sentiment: 0\n",
            "Prediction with lr: [0]\n",
            "Prediction with mnb: [1]\n",
            "\n",
            "Review no. 631\n",
            "Actual sentiment: 1\n",
            "Prediction with lr: [1]\n",
            "Prediction with mnb: [1]\n",
            "\n",
            "Review no. 370\n",
            "Actual sentiment: 0\n",
            "Prediction with lr: [0]\n",
            "Prediction with mnb: [0]\n"
          ]
        }
      ]
    },
    {
      "cell_type": "markdown",
      "source": [
        "Comprobamos cómo el modelo de Regresión Logística si que ha acertado en todos los supuestos mientras que el modelo de Multinomial Naive Bayes para algunas observaciones. "
      ],
      "metadata": {
        "id": "DIT-yAeNhEGs"
      }
    }
  ]
}
